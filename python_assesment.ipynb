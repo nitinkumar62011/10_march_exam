{
 "cells": [
  {
   "cell_type": "markdown",
   "metadata": {},
   "source": [
    "Question: 1\n",
    "\n",
    "\n",
    "You have an input dictionary given,\n",
    "\n",
    "input_dict = {\"abc\":{\"def\":{\"ghi\":{\"jkl\":{\"mno\":{\"pqr\":{\"stu\":{\"vwx\":{\"yz\":\"you are finally here !!!\"}}}}}}}}}\n",
    "\n",
    "Task:  You have to write a Python function that will take this input and print it like that,\n",
    "\n",
    "output = {\"abc\":[\"def\",\"ghi\",\"jkl\",\"mno\",\"pqr\",\"stu\",\"vwx\",\"yz\"],\n",
    " \"def\":[\"ghi\",\"jkl\",\"mno\",\"pqr\",\"stu\",\"vwx\",\"yz\"],\n",
    " \"ghi\":[\"jkl\",\"mno\",\"pqr\",\"stu\",\"vwx\",\"yz\"],\n",
    " \"jkl\":[\"mno\",\"pqr\",\"stu\",\"vwx\",\"yz\"],\n",
    " \"mno\":[\"pqr\",\"stu\",\"vwx\",\"yz\"],\n",
    " \"pqr\":[\"stu\",\"vwx\",\"yz\"],\n",
    " \"stu\":[\"vwx\",\"yz\"],\n",
    " \"vwx\":[\"yz\"],\n",
    " \"yz\":[\"you are finally here !!!\"]}"
   ]
  },
  {
   "cell_type": "code",
   "execution_count": 68,
   "metadata": {},
   "outputs": [],
   "source": [
    "# Solution 1 \n",
    "input_dict = {\"abc\":{\"def\":{\"ghi\":{\"jkl\":{\"mno\":{\"pqr\":{\"stu\":{\"vwx\":{\"yz\":\"you are finally here !!!\"}}}}}}}}}"
   ]
  },
  {
   "cell_type": "code",
   "execution_count": 69,
   "metadata": {},
   "outputs": [],
   "source": [
    "def make_in_new_dictionary_output(input_dict):\n",
    "    key_list=[]\n",
    "    #getting all key in list\n",
    "    \n",
    "    while(True):\n",
    "        if type(input_dict)!=dict:\n",
    "            last_value_of_dict=input_dict\n",
    "            break\n",
    "        for key in input_dict:\n",
    "            input_dict=input_dict[key]\n",
    "            key_list.append(key)\n",
    "    # Generating output based on the problem    \n",
    "    new_output_dict=dict()\n",
    "    length=len(key_list)\n",
    "    for i in range(len(key_list)):\n",
    "        if i==length-1:\n",
    "            new_output_dict[key_list[i]]=last_value_of_dict\n",
    "        else:\n",
    "            new_output_dict[key_list[i]]=key_list[i:]\n",
    "    return new_output_dict\n",
    "    "
   ]
  },
  {
   "cell_type": "code",
   "execution_count": 70,
   "metadata": {},
   "outputs": [
    {
     "data": {
      "text/plain": [
       "{'abc': ['abc', 'def', 'ghi', 'jkl', 'mno', 'pqr', 'stu', 'vwx', 'yz'],\n",
       " 'def': ['def', 'ghi', 'jkl', 'mno', 'pqr', 'stu', 'vwx', 'yz'],\n",
       " 'ghi': ['ghi', 'jkl', 'mno', 'pqr', 'stu', 'vwx', 'yz'],\n",
       " 'jkl': ['jkl', 'mno', 'pqr', 'stu', 'vwx', 'yz'],\n",
       " 'mno': ['mno', 'pqr', 'stu', 'vwx', 'yz'],\n",
       " 'pqr': ['pqr', 'stu', 'vwx', 'yz'],\n",
       " 'stu': ['stu', 'vwx', 'yz'],\n",
       " 'vwx': ['vwx', 'yz'],\n",
       " 'yz': 'you are finally here !!!'}"
      ]
     },
     "execution_count": 70,
     "metadata": {},
     "output_type": "execute_result"
    }
   ],
   "source": [
    "make_in_new_dictionary_output(input_dict)"
   ]
  },
  {
   "cell_type": "markdown",
   "metadata": {},
   "source": [
    "question: 2\n",
    "\n",
    "\n",
    "Given an array of length ‘N’, where each element denotes the position of a stall. Now you have ‘N’ stalls and an integer ‘K’ which denotes the number of horses that are mad. To prevent the horses from hurting each other, you need to assign the horses to the stalls, such that the minimum distance between any two of them is as large as possible. Return the largest minimum distance.\n",
    "\n",
    "array: 1,2,4,8,9  &  k=3\n",
    "\n",
    "O/P: 3\n",
    "\n",
    "Explanation: 1st horse at stall 1, 2nd horse at stall 4 and 3rd horse at stall 8\n"
   ]
  },
  {
   "cell_type": "code",
   "execution_count": 71,
   "metadata": {},
   "outputs": [],
   "source": [
    "def checking_horeses_assign(arr,k,min_distance):\n",
    "    c= 1\n",
    "    last_position = arr[0]\n",
    "    \n",
    "    for pos in arr:\n",
    "        if pos - last_position >= min_distance:\n",
    "            c =c+ 1\n",
    "            last_position = pos\n",
    "    \n",
    "    return c >= k\n",
    "    \n",
    "    \n",
    "def largest_minimum_distance(arr,k):\n",
    "    arr.sort()\n",
    "    low = 1  \n",
    "    high = max(arr)-min(arr)\n",
    "    \n",
    "    opt = -1\n",
    "    while low<=high:\n",
    "        mid=low+(high-low)//2\n",
    "        if checking_horeses_assign(arr,k,mid):\n",
    "            opt = mid\n",
    "            low = mid + 1\n",
    "        else:\n",
    "            high = mid - 1\n",
    "    \n",
    "    return opt"
   ]
  },
  {
   "cell_type": "code",
   "execution_count": 72,
   "metadata": {},
   "outputs": [
    {
     "data": {
      "text/plain": [
       "3"
      ]
     },
     "execution_count": 72,
     "metadata": {},
     "output_type": "execute_result"
    }
   ],
   "source": [
    "largest_minimum_distance([1,2,4,8,9],3)"
   ]
  },
  {
   "cell_type": "code",
   "execution_count": null,
   "metadata": {},
   "outputs": [],
   "source": []
  }
 ],
 "metadata": {
  "kernelspec": {
   "display_name": "Python 3",
   "language": "python",
   "name": "python3"
  },
  "language_info": {
   "codemirror_mode": {
    "name": "ipython",
    "version": 3
   },
   "file_extension": ".py",
   "mimetype": "text/x-python",
   "name": "python",
   "nbconvert_exporter": "python",
   "pygments_lexer": "ipython3",
   "version": "3.11.8"
  }
 },
 "nbformat": 4,
 "nbformat_minor": 2
}
